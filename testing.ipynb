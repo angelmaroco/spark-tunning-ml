{
 "cells": [
  {
   "cell_type": "code",
   "execution_count": null,
   "metadata": {},
   "outputs": [],
   "source": [
    "import os\n",
    "from spark_tunning_ml.config import config\n",
    "from spark_tunning_ml.data import Data as data\n",
    "from spark_tunning_ml.logger import logger\n",
    "from spark_tunning_ml.milvus import MilvusHandler\n",
    "from dotenv import load_dotenv"
   ]
  },
  {
   "cell_type": "code",
   "execution_count": null,
   "metadata": {},
   "outputs": [],
   "source": [
    "load_dotenv()\n",
    "\n",
    "print(f\"Connecting to Milvus at {os.environ.get('MILVUS_URI')}\")\n",
    "\n",
    "milvus = MilvusHandler(\n",
    "    uri=os.environ.get(\"MILVUS_URI\"),\n",
    "    token=os.environ.get(\"MILVUS_TOKEN\"),\n",
    ")\n",
    "\n",
    "milvus.connect()\n",
    "\n",
    "process_name = config.get(\"internal_process_name\")\n",
    "spark_collection = data.convert_to_camel_case(\n",
    "    f\"{config.get('internal_milvus_collection_spark_metrics')}-{process_name}\"\n",
    ")\n",
    "\n",
    "milvus.get_collection(spark_collection)\n",
    "\n",
    "logger.info(f\"Loading collection {spark_collection}\")\n",
    "\n",
    "milvus.load_collection()\n",
    "\n",
    "logger.info(f\"Number of entities in collection: {milvus.get_entity_num()}\")"
   ]
  }
 ],
 "metadata": {
  "kernelspec": {
   "display_name": ".venv",
   "language": "python",
   "name": "python3"
  },
  "language_info": {
   "codemirror_mode": {
    "name": "ipython",
    "version": 3
   },
   "file_extension": ".py",
   "mimetype": "text/x-python",
   "name": "python",
   "nbconvert_exporter": "python",
   "pygments_lexer": "ipython3",
   "version": "3.11.7"
  },
  "orig_nbformat": 4
 },
 "nbformat": 4,
 "nbformat_minor": 2
}
